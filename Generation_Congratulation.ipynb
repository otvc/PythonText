{
  "nbformat": 4,
  "nbformat_minor": 0,
  "metadata": {
    "colab": {
      "name": "Generation-Congratulation.ipynb",
      "provenance": [],
      "authorship_tag": "ABX9TyMVpr9eQwAHePSO9FiIRHN4",
      "include_colab_link": true
    },
    "kernelspec": {
      "name": "python3",
      "display_name": "Python 3"
    },
    "language_info": {
      "name": "python"
    }
  },
  "cells": [
    {
      "cell_type": "markdown",
      "metadata": {
        "id": "view-in-github",
        "colab_type": "text"
      },
      "source": [
        "<a href=\"https://colab.research.google.com/github/otvc/PythonText/blob/main/Generation_Congratulation.ipynb\" target=\"_parent\"><img src=\"https://colab.research.google.com/assets/colab-badge.svg\" alt=\"Open In Colab\"/></a>"
      ]
    },
    {
      "cell_type": "markdown",
      "source": [
        "#Loading Data"
      ],
      "metadata": {
        "id": "pdEDJCluNVW1"
      }
    },
    {
      "cell_type": "code",
      "execution_count": 69,
      "metadata": {
        "id": "Iu2AhhMHWffl"
      },
      "outputs": [],
      "source": [
        "import numpy as np"
      ]
    },
    {
      "cell_type": "code",
      "source": [
        "from google.colab import drive\n",
        "drive.mount('/content/drive')"
      ],
      "metadata": {
        "colab": {
          "base_uri": "https://localhost:8080/"
        },
        "id": "Ipyy9N60WwRs",
        "outputId": "2bc130c1-0a1a-4511-ce29-e9865bcf36d8"
      },
      "execution_count": 70,
      "outputs": [
        {
          "output_type": "stream",
          "name": "stdout",
          "text": [
            "Drive already mounted at /content/drive; to attempt to forcibly remount, call drive.mount(\"/content/drive\", force_remount=True).\n"
          ]
        }
      ]
    },
    {
      "cell_type": "code",
      "source": [
        "!pip3 install lxml"
      ],
      "metadata": {
        "colab": {
          "base_uri": "https://localhost:8080/"
        },
        "id": "ioTe7Kv0W2pG",
        "outputId": "2c53f05a-52b6-4d65-ba32-72c3495a50ea"
      },
      "execution_count": 6,
      "outputs": [
        {
          "output_type": "stream",
          "name": "stdout",
          "text": [
            "Requirement already satisfied: lxml in /usr/local/lib/python3.7/dist-packages (4.2.6)\n"
          ]
        }
      ]
    },
    {
      "cell_type": "code",
      "source": [
        "!pip3 install bs4"
      ],
      "metadata": {
        "colab": {
          "base_uri": "https://localhost:8080/"
        },
        "id": "39yYuma5rrwi",
        "outputId": "a2a949d3-8f85-40ce-8d98-242f0ed29718"
      },
      "execution_count": 7,
      "outputs": [
        {
          "output_type": "stream",
          "name": "stdout",
          "text": [
            "Requirement already satisfied: bs4 in /usr/local/lib/python3.7/dist-packages (0.0.1)\n",
            "Requirement already satisfied: beautifulsoup4 in /usr/local/lib/python3.7/dist-packages (from bs4) (4.6.3)\n"
          ]
        }
      ]
    },
    {
      "cell_type": "code",
      "source": [
        "!pip install requests"
      ],
      "metadata": {
        "colab": {
          "base_uri": "https://localhost:8080/"
        },
        "id": "rNNTv5FDsdor",
        "outputId": "c8603d03-5ac9-45fb-f593-d4f4b2dc0193"
      },
      "execution_count": 11,
      "outputs": [
        {
          "output_type": "stream",
          "name": "stdout",
          "text": [
            "Requirement already satisfied: requests in /usr/local/lib/python3.7/dist-packages (2.23.0)\n",
            "Requirement already satisfied: chardet<4,>=3.0.2 in /usr/local/lib/python3.7/dist-packages (from requests) (3.0.4)\n",
            "Requirement already satisfied: urllib3!=1.25.0,!=1.25.1,<1.26,>=1.21.1 in /usr/local/lib/python3.7/dist-packages (from requests) (1.24.3)\n",
            "Requirement already satisfied: idna<3,>=2.5 in /usr/local/lib/python3.7/dist-packages (from requests) (2.10)\n",
            "Requirement already satisfied: certifi>=2017.4.17 in /usr/local/lib/python3.7/dist-packages (from requests) (2021.10.8)\n"
          ]
        }
      ]
    },
    {
      "cell_type": "code",
      "source": [
        "import requests"
      ],
      "metadata": {
        "id": "UYj1L4b-sk-7"
      },
      "execution_count": 12,
      "outputs": []
    },
    {
      "cell_type": "code",
      "source": [
        "source = \"https://pozdravok.ru/pozdravleniya/den-rozhdeniya/\"\n",
        "page_count = 30\n",
        "text_list = []"
      ],
      "metadata": {
        "id": "cmxGu3iQrzpU"
      },
      "execution_count": 370,
      "outputs": []
    },
    {
      "cell_type": "code",
      "source": [
        "def gen_url_list(url_base, count):\n",
        "  gen_list = []\n",
        "  for i in range(1, count + 1):\n",
        "    new_url = url_base + str(i)\n",
        "    gen_list.append(new_url)\n",
        "  return gen_list\n",
        "\n",
        "def get_responses(url_list):\n",
        "  responses = []\n",
        "  for url in url_list:\n",
        "    response = requests.get(url)\n",
        "    if response.status_code == 200:\n",
        "      print(f'Success {url}!')\n",
        "      responses.append(response)\n",
        "    elif response.status_code == 404:\n",
        "      print(f'Not Found. {url}')\n",
        "  return responses"
      ],
      "metadata": {
        "id": "AwnoAGsStFGj"
      },
      "execution_count": 371,
      "outputs": []
    },
    {
      "cell_type": "code",
      "source": [
        "url_list = gen_url_list(source, page_count)"
      ],
      "metadata": {
        "id": "Cf0ZeUPEthUN"
      },
      "execution_count": 372,
      "outputs": []
    },
    {
      "cell_type": "code",
      "source": [
        "responses = get_responses(url_list)"
      ],
      "metadata": {
        "colab": {
          "base_uri": "https://localhost:8080/"
        },
        "id": "SHgRg7OYtAlz",
        "outputId": "88ae15e3-ba01-4edb-cc39-5b8d511c4976"
      },
      "execution_count": 373,
      "outputs": [
        {
          "output_type": "stream",
          "name": "stdout",
          "text": [
            "Success https://pozdravok.ru/pozdravleniya/den-rozhdeniya/1!\n",
            "Success https://pozdravok.ru/pozdravleniya/den-rozhdeniya/2!\n",
            "Success https://pozdravok.ru/pozdravleniya/den-rozhdeniya/3!\n",
            "Success https://pozdravok.ru/pozdravleniya/den-rozhdeniya/4!\n",
            "Success https://pozdravok.ru/pozdravleniya/den-rozhdeniya/5!\n",
            "Success https://pozdravok.ru/pozdravleniya/den-rozhdeniya/6!\n",
            "Success https://pozdravok.ru/pozdravleniya/den-rozhdeniya/7!\n",
            "Success https://pozdravok.ru/pozdravleniya/den-rozhdeniya/8!\n",
            "Success https://pozdravok.ru/pozdravleniya/den-rozhdeniya/9!\n",
            "Success https://pozdravok.ru/pozdravleniya/den-rozhdeniya/10!\n",
            "Success https://pozdravok.ru/pozdravleniya/den-rozhdeniya/11!\n",
            "Success https://pozdravok.ru/pozdravleniya/den-rozhdeniya/12!\n",
            "Success https://pozdravok.ru/pozdravleniya/den-rozhdeniya/13!\n",
            "Success https://pozdravok.ru/pozdravleniya/den-rozhdeniya/14!\n",
            "Success https://pozdravok.ru/pozdravleniya/den-rozhdeniya/15!\n",
            "Success https://pozdravok.ru/pozdravleniya/den-rozhdeniya/16!\n",
            "Success https://pozdravok.ru/pozdravleniya/den-rozhdeniya/17!\n",
            "Success https://pozdravok.ru/pozdravleniya/den-rozhdeniya/18!\n",
            "Success https://pozdravok.ru/pozdravleniya/den-rozhdeniya/19!\n",
            "Success https://pozdravok.ru/pozdravleniya/den-rozhdeniya/20!\n",
            "Success https://pozdravok.ru/pozdravleniya/den-rozhdeniya/21!\n",
            "Success https://pozdravok.ru/pozdravleniya/den-rozhdeniya/22!\n",
            "Success https://pozdravok.ru/pozdravleniya/den-rozhdeniya/23!\n",
            "Success https://pozdravok.ru/pozdravleniya/den-rozhdeniya/24!\n",
            "Success https://pozdravok.ru/pozdravleniya/den-rozhdeniya/25!\n",
            "Success https://pozdravok.ru/pozdravleniya/den-rozhdeniya/26!\n",
            "Success https://pozdravok.ru/pozdravleniya/den-rozhdeniya/27!\n",
            "Success https://pozdravok.ru/pozdravleniya/den-rozhdeniya/28!\n",
            "Success https://pozdravok.ru/pozdravleniya/den-rozhdeniya/29!\n",
            "Success https://pozdravok.ru/pozdravleniya/den-rozhdeniya/30!\n"
          ]
        }
      ]
    },
    {
      "cell_type": "code",
      "source": [
        "from bs4 import BeautifulSoup"
      ],
      "metadata": {
        "id": "ARuIwpRorxhp"
      },
      "execution_count": 374,
      "outputs": []
    },
    {
      "cell_type": "code",
      "source": [
        "def get_text(responses):\n",
        "  congratulations = []\n",
        "  for response in responses:\n",
        "    soup = BeautifulSoup(resp_test.text, 'html.parser')\n",
        "    texts = soup.find_all(lambda tag: tag.has_attr('class') and tag.attrs['class'][0] == 'sfst')\n",
        "    for text in texts:\n",
        "      congratulations.append(text.getText(' '))\n",
        "  return congratulations "
      ],
      "metadata": {
        "id": "T9m3ih1gy8UU"
      },
      "execution_count": 375,
      "outputs": []
    },
    {
      "cell_type": "code",
      "source": [
        "congrats = get_text(responses)"
      ],
      "metadata": {
        "id": "OmBLAMCqwlak"
      },
      "execution_count": 376,
      "outputs": []
    },
    {
      "cell_type": "code",
      "source": [
        "import csv"
      ],
      "metadata": {
        "id": "ZJ-F8pl4JlHa"
      },
      "execution_count": 377,
      "outputs": []
    },
    {
      "cell_type": "code",
      "source": [
        "source_to_save = \"/content/drive/MyDrive/NLP_Data/congratulations.csv\""
      ],
      "metadata": {
        "id": "N5et9EqN0Dfs"
      },
      "execution_count": 378,
      "outputs": []
    },
    {
      "cell_type": "code",
      "source": [
        "ind = 0\n",
        "with open(source_to_save, 'w') as csvfile:\n",
        "  writer = csv.writer(csvfile, delimiter = '|')\n",
        "  writer.writerow(['Id', 'Text'])\n",
        "  for cng in congrats:\n",
        "    writer.writerow([str(ind), cng])\n",
        "    ind += 1"
      ],
      "metadata": {
        "id": "dH6me3nY0ERA"
      },
      "execution_count": 379,
      "outputs": []
    },
    {
      "cell_type": "code",
      "source": [
        "import pandas as pd"
      ],
      "metadata": {
        "id": "x7MzHp8wKQwv"
      },
      "execution_count": 380,
      "outputs": []
    },
    {
      "cell_type": "code",
      "source": [
        "df = pd.read_csv(source_to_save, delimiter=\"|\", index_col='Id')"
      ],
      "metadata": {
        "id": "6-bGsh-MKf_i"
      },
      "execution_count": 381,
      "outputs": []
    },
    {
      "cell_type": "code",
      "source": [
        "df"
      ],
      "metadata": {
        "colab": {
          "base_uri": "https://localhost:8080/",
          "height": 447
        },
        "id": "3xUFWw4mKi3c",
        "outputId": "fc49b6f8-30fc-4f07-fa05-4b68acf7390b"
      },
      "execution_count": 382,
      "outputs": [
        {
          "output_type": "execute_result",
          "data": {
            "text/html": [
              "\n",
              "  <div id=\"df-b561cb85-57f4-49ec-aaf0-3d8fd5cb83a6\">\n",
              "    <div class=\"colab-df-container\">\n",
              "      <div>\n",
              "<style scoped>\n",
              "    .dataframe tbody tr th:only-of-type {\n",
              "        vertical-align: middle;\n",
              "    }\n",
              "\n",
              "    .dataframe tbody tr th {\n",
              "        vertical-align: top;\n",
              "    }\n",
              "\n",
              "    .dataframe thead th {\n",
              "        text-align: right;\n",
              "    }\n",
              "</style>\n",
              "<table border=\"1\" class=\"dataframe\">\n",
              "  <thead>\n",
              "    <tr style=\"text-align: right;\">\n",
              "      <th></th>\n",
              "      <th>Text</th>\n",
              "    </tr>\n",
              "    <tr>\n",
              "      <th>Id</th>\n",
              "      <th></th>\n",
              "    </tr>\n",
              "  </thead>\n",
              "  <tbody>\n",
              "    <tr>\n",
              "      <th>0</th>\n",
              "      <td>С днем рождения поздравляю И от всей души жела...</td>\n",
              "    </tr>\n",
              "    <tr>\n",
              "      <th>1</th>\n",
              "      <td>С днем рождения поздравляю! Пожелать хочу тебе...</td>\n",
              "    </tr>\n",
              "    <tr>\n",
              "      <th>2</th>\n",
              "      <td>Пусть море радости и счастья Тебя повсюду окру...</td>\n",
              "    </tr>\n",
              "    <tr>\n",
              "      <th>3</th>\n",
              "      <td>Поздравляем с днем рождения! И желаем не груст...</td>\n",
              "    </tr>\n",
              "    <tr>\n",
              "      <th>4</th>\n",
              "      <td>Поздравляю с днем рождения! И желаю лишь весел...</td>\n",
              "    </tr>\n",
              "    <tr>\n",
              "      <th>...</th>\n",
              "      <td>...</td>\n",
              "    </tr>\n",
              "    <tr>\n",
              "      <th>295</th>\n",
              "      <td>Желаю самых лучших дней, Больших мечтаний и ид...</td>\n",
              "    </tr>\n",
              "    <tr>\n",
              "      <th>296</th>\n",
              "      <td>Желаю здоровья, улыбок, добра, Безоблачных дне...</td>\n",
              "    </tr>\n",
              "    <tr>\n",
              "      <th>297</th>\n",
              "      <td>Желаю всех чудес на свете, Тепла, надежды, доб...</td>\n",
              "    </tr>\n",
              "    <tr>\n",
              "      <th>298</th>\n",
              "      <td>Желаю быть всегда на высоте! Жить счастливо и ...</td>\n",
              "    </tr>\n",
              "    <tr>\n",
              "      <th>299</th>\n",
              "      <td>Здоровья, сил, терпения, Желаний исполнения, П...</td>\n",
              "    </tr>\n",
              "  </tbody>\n",
              "</table>\n",
              "<p>300 rows × 1 columns</p>\n",
              "</div>\n",
              "      <button class=\"colab-df-convert\" onclick=\"convertToInteractive('df-b561cb85-57f4-49ec-aaf0-3d8fd5cb83a6')\"\n",
              "              title=\"Convert this dataframe to an interactive table.\"\n",
              "              style=\"display:none;\">\n",
              "        \n",
              "  <svg xmlns=\"http://www.w3.org/2000/svg\" height=\"24px\"viewBox=\"0 0 24 24\"\n",
              "       width=\"24px\">\n",
              "    <path d=\"M0 0h24v24H0V0z\" fill=\"none\"/>\n",
              "    <path d=\"M18.56 5.44l.94 2.06.94-2.06 2.06-.94-2.06-.94-.94-2.06-.94 2.06-2.06.94zm-11 1L8.5 8.5l.94-2.06 2.06-.94-2.06-.94L8.5 2.5l-.94 2.06-2.06.94zm10 10l.94 2.06.94-2.06 2.06-.94-2.06-.94-.94-2.06-.94 2.06-2.06.94z\"/><path d=\"M17.41 7.96l-1.37-1.37c-.4-.4-.92-.59-1.43-.59-.52 0-1.04.2-1.43.59L10.3 9.45l-7.72 7.72c-.78.78-.78 2.05 0 2.83L4 21.41c.39.39.9.59 1.41.59.51 0 1.02-.2 1.41-.59l7.78-7.78 2.81-2.81c.8-.78.8-2.07 0-2.86zM5.41 20L4 18.59l7.72-7.72 1.47 1.35L5.41 20z\"/>\n",
              "  </svg>\n",
              "      </button>\n",
              "      \n",
              "  <style>\n",
              "    .colab-df-container {\n",
              "      display:flex;\n",
              "      flex-wrap:wrap;\n",
              "      gap: 12px;\n",
              "    }\n",
              "\n",
              "    .colab-df-convert {\n",
              "      background-color: #E8F0FE;\n",
              "      border: none;\n",
              "      border-radius: 50%;\n",
              "      cursor: pointer;\n",
              "      display: none;\n",
              "      fill: #1967D2;\n",
              "      height: 32px;\n",
              "      padding: 0 0 0 0;\n",
              "      width: 32px;\n",
              "    }\n",
              "\n",
              "    .colab-df-convert:hover {\n",
              "      background-color: #E2EBFA;\n",
              "      box-shadow: 0px 1px 2px rgba(60, 64, 67, 0.3), 0px 1px 3px 1px rgba(60, 64, 67, 0.15);\n",
              "      fill: #174EA6;\n",
              "    }\n",
              "\n",
              "    [theme=dark] .colab-df-convert {\n",
              "      background-color: #3B4455;\n",
              "      fill: #D2E3FC;\n",
              "    }\n",
              "\n",
              "    [theme=dark] .colab-df-convert:hover {\n",
              "      background-color: #434B5C;\n",
              "      box-shadow: 0px 1px 3px 1px rgba(0, 0, 0, 0.15);\n",
              "      filter: drop-shadow(0px 1px 2px rgba(0, 0, 0, 0.3));\n",
              "      fill: #FFFFFF;\n",
              "    }\n",
              "  </style>\n",
              "\n",
              "      <script>\n",
              "        const buttonEl =\n",
              "          document.querySelector('#df-b561cb85-57f4-49ec-aaf0-3d8fd5cb83a6 button.colab-df-convert');\n",
              "        buttonEl.style.display =\n",
              "          google.colab.kernel.accessAllowed ? 'block' : 'none';\n",
              "\n",
              "        async function convertToInteractive(key) {\n",
              "          const element = document.querySelector('#df-b561cb85-57f4-49ec-aaf0-3d8fd5cb83a6');\n",
              "          const dataTable =\n",
              "            await google.colab.kernel.invokeFunction('convertToInteractive',\n",
              "                                                     [key], {});\n",
              "          if (!dataTable) return;\n",
              "\n",
              "          const docLinkHtml = 'Like what you see? Visit the ' +\n",
              "            '<a target=\"_blank\" href=https://colab.research.google.com/notebooks/data_table.ipynb>data table notebook</a>'\n",
              "            + ' to learn more about interactive tables.';\n",
              "          element.innerHTML = '';\n",
              "          dataTable['output_type'] = 'display_data';\n",
              "          await google.colab.output.renderOutput(dataTable, element);\n",
              "          const docLink = document.createElement('div');\n",
              "          docLink.innerHTML = docLinkHtml;\n",
              "          element.appendChild(docLink);\n",
              "        }\n",
              "      </script>\n",
              "    </div>\n",
              "  </div>\n",
              "  "
            ],
            "text/plain": [
              "                                                  Text\n",
              "Id                                                    \n",
              "0    С днем рождения поздравляю И от всей души жела...\n",
              "1    С днем рождения поздравляю! Пожелать хочу тебе...\n",
              "2    Пусть море радости и счастья Тебя повсюду окру...\n",
              "3    Поздравляем с днем рождения! И желаем не груст...\n",
              "4    Поздравляю с днем рождения! И желаю лишь весел...\n",
              "..                                                 ...\n",
              "295  Желаю самых лучших дней, Больших мечтаний и ид...\n",
              "296  Желаю здоровья, улыбок, добра, Безоблачных дне...\n",
              "297  Желаю всех чудес на свете, Тепла, надежды, доб...\n",
              "298  Желаю быть всегда на высоте! Жить счастливо и ...\n",
              "299  Здоровья, сил, терпения, Желаний исполнения, П...\n",
              "\n",
              "[300 rows x 1 columns]"
            ]
          },
          "metadata": {},
          "execution_count": 382
        }
      ]
    },
    {
      "cell_type": "markdown",
      "source": [
        "#Dataset"
      ],
      "metadata": {
        "id": "vDrIHOJKNQQc"
      }
    },
    {
      "cell_type": "code",
      "source": [
        "import torch\n",
        "import torch.nn as nn\n",
        "from torch.utils.data import Dataset\n",
        "from torch.utils.data import DataLoader"
      ],
      "metadata": {
        "id": "vanTSqGDNRz7"
      },
      "execution_count": 383,
      "outputs": []
    },
    {
      "cell_type": "code",
      "source": [
        "import string\n",
        "from collections import Counter"
      ],
      "metadata": {
        "id": "nvRRJH67PToT"
      },
      "execution_count": 384,
      "outputs": []
    },
    {
      "cell_type": "markdown",
      "source": [
        "##Создадим Dataset и Dataloader"
      ],
      "metadata": {
        "id": "SzKNOiGUZqKe"
      }
    },
    {
      "cell_type": "code",
      "source": [
        "class CongratulationDataset(Dataset):\n",
        "  def __init__(self, path_to_file, vector_length):\n",
        "    self.words = self.load_words(path_to_file)\n",
        "    self.uniq_words = self.get_uniq_words()\n",
        "    self.vector_length = vector_length\n",
        "\n",
        "    self.index_to_word = {index: word for index, word in enumerate(self.uniq_words)}\n",
        "    self.word_to_index = {word: index for index, word in enumerate(self.uniq_words)}\n",
        "\n",
        "    self.words_indexes = [self.word_to_index[w] for w in self.words]\n",
        "\n",
        "  def load_words(self, path_to_file):\n",
        "    df = pd.read_csv(source_to_save, delimiter=\"|\", index_col='Id')\n",
        "    text = df['Text'].str.cat(sep=' ')\n",
        "    punct = string.punctuation + \"…\"+\"»\"+\"«\" + \"—\";\n",
        "    trans = str.maketrans(punct, \" \"*len(punct))\n",
        "    text = text.translate(trans).lower().split()\n",
        "    return text\n",
        "\n",
        "  def get_uniq_words(self):\n",
        "    word_counts = Counter(self.words)\n",
        "    return sorted(word_counts, key=word_counts.get, reverse=True)\n",
        "\n",
        "  def __len__(self):\n",
        "    return len(self.words_indexes) - self.vector_length\n",
        "\n",
        "  def __getitem__(self, index):\n",
        "    return(\n",
        "        torch.tensor(self.words_indexes[index:index+self.vector_length]),\n",
        "        torch.tensor(self.words_indexes[index+1:index+self.vector_length+1]),\n",
        "        )"
      ],
      "metadata": {
        "id": "xQiOGW5iNdGJ"
      },
      "execution_count": 385,
      "outputs": []
    },
    {
      "cell_type": "code",
      "source": [
        "data_source = source_to_save"
      ],
      "metadata": {
        "id": "E0HVEOR6OgZL"
      },
      "execution_count": 386,
      "outputs": []
    },
    {
      "cell_type": "code",
      "source": [
        "congratulations_data = CongratulationDataset(data_source, 64)"
      ],
      "metadata": {
        "id": "aqN6tr3VOa20"
      },
      "execution_count": 387,
      "outputs": []
    },
    {
      "cell_type": "code",
      "source": [
        "train_dataloader = DataLoader(congratulations_data, batch_size=64, shuffle=True)"
      ],
      "metadata": {
        "id": "2X1yeHetPdCp"
      },
      "execution_count": 388,
      "outputs": []
    },
    {
      "cell_type": "code",
      "source": [
        "train_features, train_labels = next(iter(train_dataloader))"
      ],
      "metadata": {
        "id": "iKdDIsxYYhPj"
      },
      "execution_count": 389,
      "outputs": []
    },
    {
      "cell_type": "markdown",
      "source": [
        "##Создадим модель (LSTM в данном случае)"
      ],
      "metadata": {
        "id": "6dZ5H_q2Zpps"
      }
    },
    {
      "cell_type": "code",
      "source": [
        "class LSTM(nn.Module):\n",
        "  def __init__(self, dataset, input_size, emb_dim, num_layers):\n",
        "    super(LSTM, self).__init__()\n",
        "\n",
        "    self.input_size = input_size\n",
        "    self.embedding_dim = emb_dim\n",
        "    self.num_layers = num_layers\n",
        "\n",
        "    self.lstm = nn.LSTM(\n",
        "        input_size = self.input_size,\n",
        "        hidden_size = self.input_size,\n",
        "        num_layers = self.num_layers,\n",
        "        dropout = 0.2,\n",
        "    )\n",
        "\n",
        "    dataset_size = len(dataset.uniq_words)\n",
        "\n",
        "    self.embedding = nn.Embedding(dataset_size, self.embedding_dim)\n",
        "    self.fc = nn.Linear(self.input_size, dataset_size)\n",
        "\n",
        "  def forward(self, x, prev_state):\n",
        "    x = self.embedding(x)\n",
        "    x, s = self.lstm(x, prev_state)\n",
        "    logit = self.fc(x)\n",
        "    return logit, s\n",
        "    \n",
        "  def init_state(self, sequence_length):\n",
        "      return (torch.zeros(self.num_layers, sequence_length, self.input_size),\n",
        "              torch.zeros(self.num_layers, sequence_length, self.input_size))"
      ],
      "metadata": {
        "id": "t1WBvwemZelF"
      },
      "execution_count": 390,
      "outputs": []
    },
    {
      "cell_type": "code",
      "source": [
        "model = LSTM(congratulations_data, 64, 64, 2)"
      ],
      "metadata": {
        "id": "KFok_18JjQk_"
      },
      "execution_count": 391,
      "outputs": []
    },
    {
      "cell_type": "markdown",
      "source": [
        "##Тренировка"
      ],
      "metadata": {
        "id": "cpFGPvaHg_oe"
      }
    },
    {
      "cell_type": "code",
      "source": [
        "def train_loop(model, dataloader, loss_fn, optimizer, epochs, sequence_length):\n",
        "  for epoch in range(1, epochs + 1):\n",
        "    h, c = model.init_state(sequence_length)\n",
        "    for batch, (X, y) in enumerate(dataloader):\n",
        "      optimizer.zero_grad()\n",
        "      \n",
        "      y_pred, (h, c) = model(X, (h, c))\n",
        "      \n",
        "      loss = loss_fn(y_pred.transpose(1, 2), y)\n",
        "\n",
        "      h = h.detach()\n",
        "      c = c.detach()\n",
        "\n",
        "      loss.backward()\n",
        "      optimizer.step()\n",
        "      #print(f\"Batch: {64 * batch} -- loss: {loss}\")\n",
        "    print(f\"Epoch: {epoch} -- loss: {loss}\")"
      ],
      "metadata": {
        "id": "71Ef1RjZcWUS"
      },
      "execution_count": 392,
      "outputs": []
    },
    {
      "cell_type": "code",
      "source": [
        "optimizer = torch.optim.Adam(model.parameters(), lr=0.001)\n",
        "loss = nn.CrossEntropyLoss()"
      ],
      "metadata": {
        "id": "D-pzmS1Zi6xa"
      },
      "execution_count": 393,
      "outputs": []
    },
    {
      "cell_type": "code",
      "source": [
        "train_loop(model, train_dataloader, loss, optimizer, 20, 64)"
      ],
      "metadata": {
        "colab": {
          "base_uri": "https://localhost:8080/"
        },
        "id": "E35WdAh_jNqa",
        "outputId": "4bd33ac9-f0b0-4d7a-97aa-4aa6aac69e64"
      },
      "execution_count": 394,
      "outputs": [
        {
          "output_type": "stream",
          "name": "stdout",
          "text": [
            "Epoch: 1 -- loss: 2.5594098567962646\n",
            "Epoch: 2 -- loss: 1.1407605409622192\n",
            "Epoch: 3 -- loss: 0.9620330929756165\n",
            "Epoch: 4 -- loss: 1.0006530284881592\n",
            "Epoch: 5 -- loss: 0.9455973505973816\n",
            "Epoch: 6 -- loss: 0.905251681804657\n",
            "Epoch: 7 -- loss: 0.8708588480949402\n",
            "Epoch: 8 -- loss: 0.9185413122177124\n",
            "Epoch: 9 -- loss: 0.853701114654541\n",
            "Epoch: 10 -- loss: 0.87147456407547\n",
            "Epoch: 11 -- loss: 0.9034827947616577\n",
            "Epoch: 12 -- loss: 0.8142960667610168\n",
            "Epoch: 13 -- loss: 0.8521782159805298\n",
            "Epoch: 14 -- loss: 0.8378504514694214\n",
            "Epoch: 15 -- loss: 0.87010657787323\n",
            "Epoch: 16 -- loss: 0.8435150384902954\n",
            "Epoch: 17 -- loss: 0.9344965815544128\n",
            "Epoch: 18 -- loss: 0.9472817182540894\n",
            "Epoch: 19 -- loss: 1.004370927810669\n",
            "Epoch: 20 -- loss: 0.873436450958252\n"
          ]
        }
      ]
    },
    {
      "cell_type": "code",
      "source": [
        "def predict(dataset, model, text, next_words=100):\n",
        "    model.eval()\n",
        "\n",
        "    words = text.split(' ')\n",
        "    state_h, state_c = model.init_state(len(words))\n",
        "\n",
        "    for i in range(0, next_words):\n",
        "        x = torch.tensor([[dataset.word_to_index[w] for w in words[i:]]])\n",
        "        y_pred, (state_h, state_c) = model(x, (state_h, state_c))\n",
        "\n",
        "        last_word_logits = y_pred[0][-1]\n",
        "        p = torch.nn.functional.softmax(last_word_logits, dim=0).detach().numpy()\n",
        "        word_index = np.random.choice(len(last_word_logits), p=p)\n",
        "        words.append(dataset.index_to_word[word_index])\n",
        "    return ' '.join(words)"
      ],
      "metadata": {
        "id": "a33-ahf2oG4X"
      },
      "execution_count": 395,
      "outputs": []
    },
    {
      "cell_type": "code",
      "source": [
        "output = predict(congratulations_data, model, text='счастья')"
      ],
      "metadata": {
        "id": "OMMgY_7Ak738"
      },
      "execution_count": 396,
      "outputs": []
    },
    {
      "cell_type": "code",
      "source": [
        "'с ' + output"
      ],
      "metadata": {
        "colab": {
          "base_uri": "https://localhost:8080/",
          "height": 86
        },
        "id": "68dGcLGnoEGT",
        "outputId": "5146f72b-8003-4929-d43d-c6741b641183"
      },
      "execution_count": 397,
      "outputs": [
        {
          "output_type": "execute_result",
          "data": {
            "application/vnd.google.colaboratory.intrinsic+json": {
              "type": "string"
            },
            "text/plain": [
              "'с счастья тебя повсюду окружит обходят стороной ненастья и желаем не забывается а в семье благополучия друзья чтоб были чтоб активы жизнь ворвутся её везением озарят помогут к ней для счастливых событий в душе всегда достатка с днем рождения и вновь и мечты твои веселее желаю быть всегда на долгие года с тобою будет пусть море радости добра безоблачных дней и хороших новостей пусть друзья во всех чудес на высоте жить счастливо и хороших новостей пусть в день не только в банке были лучшие во всех чудес на свете тепла надежды и длились все будни твои поздравляем с тобою будет пусть здоровье'"
            ]
          },
          "metadata": {},
          "execution_count": 397
        }
      ]
    },
    {
      "cell_type": "code",
      "source": [
        ""
      ],
      "metadata": {
        "id": "fSh6wpNyq1Ur"
      },
      "execution_count": null,
      "outputs": []
    }
  ]
}