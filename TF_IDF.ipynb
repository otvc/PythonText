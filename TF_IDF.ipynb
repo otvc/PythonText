{
  "nbformat": 4,
  "nbformat_minor": 0,
  "metadata": {
    "colab": {
      "name": "TF-IDF.ipynb",
      "provenance": [],
      "collapsed_sections": [],
      "authorship_tag": "ABX9TyPNJ7UEdhQ0DzyIovZBb/XC",
      "include_colab_link": true
    },
    "kernelspec": {
      "name": "python3",
      "display_name": "Python 3"
    },
    "language_info": {
      "name": "python"
    }
  },
  "cells": [
    {
      "cell_type": "markdown",
      "metadata": {
        "id": "view-in-github",
        "colab_type": "text"
      },
      "source": [
        "<a href=\"https://colab.research.google.com/github/otvc/PythonText/blob/main/TF_IDF.ipynb\" target=\"_parent\"><img src=\"https://colab.research.google.com/assets/colab-badge.svg\" alt=\"Open In Colab\"/></a>"
      ]
    },
    {
      "cell_type": "code",
      "execution_count": 16,
      "metadata": {
        "id": "JEXwDkKcbMtV"
      },
      "outputs": [],
      "source": [
        "import numpy as np\n",
        "import string\n",
        "from sklearn.feature_extraction.text import TfidfVectorizer"
      ]
    },
    {
      "cell_type": "code",
      "source": [
        "vectorizer.get_feature_names_out()[vectorizer.idf_ > 1]"
      ],
      "metadata": {
        "colab": {
          "base_uri": "https://localhost:8080/"
        },
        "id": "YK39gHDSdDxF",
        "outputId": "ee5f7678-9311-4bef-d43d-d92ca208ad54"
      },
      "execution_count": 15,
      "outputs": [
        {
          "output_type": "execute_result",
          "data": {
            "text/plain": [
              "array(['car', 'highway', 'road', 'truck'], dtype=object)"
            ]
          },
          "metadata": {},
          "execution_count": 15
        }
      ]
    },
    {
      "cell_type": "code",
      "source": [
        "class TfIdf:\n",
        "  def __init__(self):\n",
        "    self.words = np.array([])\n",
        "    self.__tf = np.array([])\n",
        "    self.__idf = np.array([])\n",
        "    self.__tf_idf = np.array([])\n",
        "    self.punct = string.punctuation + \"…\"+\"»\"+\"«\" + \"—\"\n",
        "    self.letter_trans = str.maketrans(self.punct, \" \"*len(self.punct))\n",
        "\n",
        "  def __split(self, corpus):\n",
        "    if type(corpus) is not list:\n",
        "      data = corpus.translate(self.letter_trans).lower().split()\n",
        "    else:\n",
        "      data = np.array([])\n",
        "      for text in corpus:\n",
        "        data = np.append(data, text.translate(self.letter_trans).lower().split())\n",
        "      data = np.array(list(set(data)))\n",
        "    return data\n",
        "\n",
        "  def __str_tf(self, sub_str, text):\n",
        "    return text.count(sub_str)\n",
        "\n",
        "  def __get_tf(self, corpus):\n",
        "    words_count = []\n",
        "    for word in self.words:\n",
        "      text_stats = []\n",
        "      for text in corpus:\n",
        "        text_stats.append(self.__str_tf(word, text))\n",
        "      words_count.append(np.array(text_stats))\n",
        "    words_count = np.array(words_count)\n",
        "    tf = 1.0 * words_count / len(self.words)\n",
        "    return [tf, words_count]\n",
        "\n",
        "  def __get_idf(self, corpus):\n",
        "    N = len(corpus)\n",
        "    idf = []\n",
        "    for word in self.words:\n",
        "      wtc = 0\n",
        "      for text in corpus:\n",
        "        wtc += self.__str_tf(word, text) > 0\n",
        "      idf.append(np.log10(1.0 * N / wtc))\n",
        "    idf = np.array([idf]).T\n",
        "    return idf\n",
        "\n",
        "  def get_tf(self):\n",
        "    return self.__tf\n",
        "\n",
        "  def get_idf(self):\n",
        "    return self.__idf\n",
        "\n",
        "  def get_tf_idf(self):\n",
        "    return self.__tf_idf\n",
        "\n",
        "  def fit_transform(self, corpus):\n",
        "    if type(corpus) is not list:\n",
        "      corpus = np.array([corpus])\n",
        "    self.words = self.__split(corpus)\n",
        "    self.__tf, words_count = self.__get_tf(corpus)\n",
        "    self.__idf = self.__get_idf(corpus)\n",
        "    self.__tf_idf = self.__tf * np.array([self.__idf]).T\n",
        "    return self\n"
      ],
      "metadata": {
        "id": "4eOXqK4mbkVi"
      },
      "execution_count": 108,
      "outputs": []
    },
    {
      "cell_type": "code",
      "source": [
        "corpus = [\"The car is driven on the road\", \n",
        "          \"The truck is driven on the highway\"]"
      ],
      "metadata": {
        "id": "2vl9Xoup6ZrB"
      },
      "execution_count": 109,
      "outputs": []
    },
    {
      "cell_type": "code",
      "source": [
        "test_object = TfIdf()\n",
        "test_object.fit_transform(corpus)"
      ],
      "metadata": {
        "colab": {
          "base_uri": "https://localhost:8080/"
        },
        "id": "8rp_VFrw6nZD",
        "outputId": "eaf39d4d-86d3-4511-fb31-2ca4816c820e"
      },
      "execution_count": 110,
      "outputs": [
        {
          "output_type": "execute_result",
          "data": {
            "text/plain": [
              "<__main__.TfIdf at 0x7fe9118426d0>"
            ]
          },
          "metadata": {},
          "execution_count": 110
        }
      ]
    },
    {
      "cell_type": "code",
      "source": [
        "print(f\"TF\\n{test_object.get_tf()}\\n---\")\n",
        "print(f\"IDF\\n{test_object.get_idf()}\\n---\")\n",
        "print(f\"TF-IDF\\n{test_object.get_tf_idf()}\\n---\")"
      ],
      "metadata": {
        "colab": {
          "base_uri": "https://localhost:8080/"
        },
        "id": "dTnTbDJS67Ze",
        "outputId": "69796c53-1484-42c6-f507-0927b06185f7"
      },
      "execution_count": 113,
      "outputs": [
        {
          "output_type": "stream",
          "name": "stdout",
          "text": [
            "TF\n",
            "[[0.    0.125]\n",
            " [0.125 0.   ]\n",
            " [0.125 0.125]\n",
            " [0.125 0.125]\n",
            " [0.    0.125]\n",
            " [0.125 0.   ]\n",
            " [0.125 0.125]\n",
            " [0.125 0.125]]\n",
            "---\n",
            "IDF\n",
            "[[0.30103]\n",
            " [0.30103]\n",
            " [0.     ]\n",
            " [0.     ]\n",
            " [0.30103]\n",
            " [0.30103]\n",
            " [0.     ]\n",
            " [0.     ]]\n",
            "---\n",
            "TF-IDF\n",
            "[[[0.         0.03762875]\n",
            "  [0.03762875 0.        ]\n",
            "  [0.         0.        ]\n",
            "  [0.         0.        ]\n",
            "  [0.         0.03762875]\n",
            "  [0.03762875 0.        ]\n",
            "  [0.         0.        ]\n",
            "  [0.         0.        ]]]\n",
            "---\n"
          ]
        }
      ]
    },
    {
      "cell_type": "code",
      "source": [
        ""
      ],
      "metadata": {
        "id": "_hWQEvlt7dXz"
      },
      "execution_count": null,
      "outputs": []
    }
  ]
}